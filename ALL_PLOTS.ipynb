{
 "cells": [
  {
   "cell_type": "markdown",
   "metadata": {},
   "source": [
    "# Visualization Notebook"
   ]
  },
  {
   "cell_type": "markdown",
   "metadata": {},
   "source": [
    "Checkout all crossovers from these visual. They are great indicators for buying or selling."
   ]
  },
  {
   "cell_type": "code",
   "execution_count": 11,
   "metadata": {},
   "outputs": [],
   "source": [
    "import numpy as np\n",
    "import pandas as pd\n",
    "import plotly\n",
    "import plotly.plotly as py\n",
    "import plotly.graph_objs as go\n",
    "import plotly.graph_objs as go"
   ]
  },
  {
   "cell_type": "code",
   "execution_count": 12,
   "metadata": {},
   "outputs": [],
   "source": [
    "btc = pd.read_csv('/Users/troy/Github/courses/crypto-pirates/cryptocurrencypricehistory/bitcoin_price.csv')\n",
    "mon = pd.read_csv('/Users/troy/Github/courses/crypto-pirates/cryptocurrencypricehistory/monero_price.csv')\n",
    "lit = pd.read_csv('/Users/troy/Github/courses/crypto-pirates/cryptocurrencypricehistory/litecoin_price.csv')\n",
    "eth = pd.read_csv('/Users/troy/Github/courses/crypto-pirates/cryptocurrencypricehistory/ethereum_price.csv')\n",
    "\n",
    "\n",
    "btc['MA'] = btc['Close'].rolling(10).mean()\n",
    "mon['MA'] = mon['Close'].rolling(10).mean()\n",
    "lit['MA'] = lit['Close'].rolling(10).mean()\n",
    "eth['MA'] = eth['Close'].rolling(10).mean()\n",
    "\n",
    "btc['SMA'] = btc['Close'].rolling(50).mean()\n",
    "mon['SMA'] = mon['Close'].rolling(50).mean()\n",
    "lit['SMA'] = lit['Close'].rolling(50).mean()\n",
    "eth['SMA'] = eth['Close'].rolling(50).mean()"
   ]
  },
  {
   "cell_type": "markdown",
   "metadata": {},
   "source": [
    "# Bitcoin and MA"
   ]
  },
  {
   "cell_type": "code",
   "execution_count": 13,
   "metadata": {},
   "outputs": [
    {
     "data": {
      "text/html": [
       "<iframe id=\"igraph\" scrolling=\"no\" style=\"border:none;\" seamless=\"seamless\" src=\"https://plot.ly/~tkayne10/36.embed\" height=\"525px\" width=\"100%\"></iframe>"
      ],
      "text/plain": [
       "<plotly.tools.PlotlyDisplay object>"
      ]
     },
     "execution_count": 13,
     "metadata": {},
     "output_type": "execute_result"
    }
   ],
   "source": [
    "trace1 = go.Scatter(\n",
    "    x = btc['Date'],\n",
    "    y = btc['Close'],\n",
    "    mode = 'Lines',\n",
    "    name = 'Bitcoin Close Price'\n",
    ")\n",
    "trace2 = go.Scatter(\n",
    "    x = btc['Date'],\n",
    "    y = btc['MA'],\n",
    "    mode = 'Lines',\n",
    "    name = 'Bitcoin Moving Average'\n",
    ")\n",
    "\n",
    "data = [trace1,trace2]\n",
    "\n",
    "py.iplot(data, filename='basic-scatter')"
   ]
  },
  {
   "cell_type": "markdown",
   "metadata": {},
   "source": [
    "# Bitcoin, SMA, and MA"
   ]
  },
  {
   "cell_type": "code",
   "execution_count": 14,
   "metadata": {},
   "outputs": [
    {
     "data": {
      "text/html": [
       "<iframe id=\"igraph\" scrolling=\"no\" style=\"border:none;\" seamless=\"seamless\" src=\"https://plot.ly/~tkayne10/36.embed\" height=\"525px\" width=\"100%\"></iframe>"
      ],
      "text/plain": [
       "<plotly.tools.PlotlyDisplay object>"
      ]
     },
     "execution_count": 14,
     "metadata": {},
     "output_type": "execute_result"
    }
   ],
   "source": [
    "trace1 = go.Scatter(\n",
    "    x = btc['Date'],\n",
    "    y = btc['Close'],\n",
    "    mode = 'Lines',\n",
    "    name = 'Bitcoin Close Price'\n",
    ")\n",
    "trace2 = go.Scatter(\n",
    "    x = btc['Date'],\n",
    "    y = btc['MA'],\n",
    "    mode = 'Lines',\n",
    "    name = 'Bitcoin Moving Average'\n",
    ")\n",
    "trace3 = go.Scatter(\n",
    "    x = btc['Date'],\n",
    "    y = btc['SMA'],\n",
    "    mode = 'Lines',\n",
    "    name = 'Bitcoin Small Moving Average'\n",
    ")\n",
    "\n",
    "data = [trace1,trace2,trace3]\n",
    "\n",
    "py.iplot(data, filename='basic-scatter')"
   ]
  },
  {
   "cell_type": "markdown",
   "metadata": {},
   "source": [
    "# Ethereum and MA"
   ]
  },
  {
   "cell_type": "code",
   "execution_count": 15,
   "metadata": {},
   "outputs": [
    {
     "data": {
      "text/html": [
       "<iframe id=\"igraph\" scrolling=\"no\" style=\"border:none;\" seamless=\"seamless\" src=\"https://plot.ly/~tkayne10/36.embed\" height=\"525px\" width=\"100%\"></iframe>"
      ],
      "text/plain": [
       "<plotly.tools.PlotlyDisplay object>"
      ]
     },
     "execution_count": 15,
     "metadata": {},
     "output_type": "execute_result"
    }
   ],
   "source": [
    "trace1 = go.Scatter(\n",
    "    x = eth['Date'],\n",
    "    y = eth['Close'],\n",
    "    mode = 'Lines',\n",
    "    name = 'Ethereum Close Price'\n",
    ")\n",
    "trace2 = go.Scatter(\n",
    "    x = eth['Date'],\n",
    "    y = eth['MA'],\n",
    "    mode = 'Lines',\n",
    "    name = 'Ethereum Moving Average'\n",
    ")\n",
    "\n",
    "data = [trace1,trace2]\n",
    "\n",
    "py.iplot(data, filename='basic-scatter')"
   ]
  },
  {
   "cell_type": "markdown",
   "metadata": {},
   "source": [
    "# Ethereum, SMA, and MA"
   ]
  },
  {
   "cell_type": "code",
   "execution_count": 16,
   "metadata": {},
   "outputs": [
    {
     "data": {
      "text/html": [
       "<iframe id=\"igraph\" scrolling=\"no\" style=\"border:none;\" seamless=\"seamless\" src=\"https://plot.ly/~tkayne10/36.embed\" height=\"525px\" width=\"100%\"></iframe>"
      ],
      "text/plain": [
       "<plotly.tools.PlotlyDisplay object>"
      ]
     },
     "execution_count": 16,
     "metadata": {},
     "output_type": "execute_result"
    }
   ],
   "source": [
    "trace1 = go.Scatter(\n",
    "    x = eth['Date'],\n",
    "    y = eth['Close'],\n",
    "    mode = 'Lines',\n",
    "    name = 'Ethereum Close Price'\n",
    ")\n",
    "trace2 = go.Scatter(\n",
    "    x = eth['Date'],\n",
    "    y = eth['MA'],\n",
    "    mode = 'Lines',\n",
    "    name = 'Ethereum Moving Average'\n",
    ")\n",
    "trace3 = go.Scatter(\n",
    "    x = eth['Date'],\n",
    "    y = eth['SMA'],\n",
    "    mode = 'Lines',\n",
    "    name = 'Ethereum Small Moving Average'\n",
    ")\n",
    "\n",
    "data = [trace1,trace2,trace3]\n",
    "\n",
    "py.iplot(data, filename='basic-scatter')"
   ]
  },
  {
   "cell_type": "markdown",
   "metadata": {},
   "source": [
    "# Litecoin MA"
   ]
  },
  {
   "cell_type": "code",
   "execution_count": 17,
   "metadata": {},
   "outputs": [
    {
     "data": {
      "text/html": [
       "<iframe id=\"igraph\" scrolling=\"no\" style=\"border:none;\" seamless=\"seamless\" src=\"https://plot.ly/~tkayne10/36.embed\" height=\"525px\" width=\"100%\"></iframe>"
      ],
      "text/plain": [
       "<plotly.tools.PlotlyDisplay object>"
      ]
     },
     "execution_count": 17,
     "metadata": {},
     "output_type": "execute_result"
    }
   ],
   "source": [
    "trace1 = go.Scatter(\n",
    "    x = lit['Date'],\n",
    "    y = lit['Close'],\n",
    "    mode = 'Lines',\n",
    "    name = 'Litecoin Close Price'\n",
    ")\n",
    "trace2 = go.Scatter(\n",
    "    x = lit['Date'],\n",
    "    y = lit['MA'],\n",
    "    mode = 'Lines',\n",
    "    name = 'Litecoin Moving Average'\n",
    ")\n",
    "\n",
    "data = [trace1,trace2]\n",
    "\n",
    "py.iplot(data, filename='basic-scatter')"
   ]
  },
  {
   "cell_type": "markdown",
   "metadata": {},
   "source": [
    "# Litecoin, SMA, and MA"
   ]
  },
  {
   "cell_type": "code",
   "execution_count": 18,
   "metadata": {},
   "outputs": [
    {
     "data": {
      "text/html": [
       "<iframe id=\"igraph\" scrolling=\"no\" style=\"border:none;\" seamless=\"seamless\" src=\"https://plot.ly/~tkayne10/36.embed\" height=\"525px\" width=\"100%\"></iframe>"
      ],
      "text/plain": [
       "<plotly.tools.PlotlyDisplay object>"
      ]
     },
     "execution_count": 18,
     "metadata": {},
     "output_type": "execute_result"
    }
   ],
   "source": [
    "trace1 = go.Scatter(\n",
    "    x = lit['Date'],\n",
    "    y = lit['Close'],\n",
    "    mode = 'Lines',\n",
    "    name = 'Litecoin Close Price'\n",
    ")\n",
    "trace2 = go.Scatter(\n",
    "    x = lit['Date'],\n",
    "    y = lit['MA'],\n",
    "    mode = 'Lines',\n",
    "    name = 'Litecoin Moving Average'\n",
    ")\n",
    "trace3 = go.Scatter(\n",
    "    x = lit['Date'],\n",
    "    y = lit['SMA'],\n",
    "    mode = 'Lines',\n",
    "    name = 'Litecoin Small Moving Average'\n",
    ")\n",
    "\n",
    "data = [trace1,trace2,trace3]\n",
    "\n",
    "py.iplot(data, filename='basic-scatter')"
   ]
  },
  {
   "cell_type": "markdown",
   "metadata": {},
   "source": [
    "# Monero and MA"
   ]
  },
  {
   "cell_type": "code",
   "execution_count": 19,
   "metadata": {},
   "outputs": [
    {
     "data": {
      "text/html": [
       "<iframe id=\"igraph\" scrolling=\"no\" style=\"border:none;\" seamless=\"seamless\" src=\"https://plot.ly/~tkayne10/36.embed\" height=\"525px\" width=\"100%\"></iframe>"
      ],
      "text/plain": [
       "<plotly.tools.PlotlyDisplay object>"
      ]
     },
     "execution_count": 19,
     "metadata": {},
     "output_type": "execute_result"
    }
   ],
   "source": [
    "trace1 = go.Scatter(\n",
    "    x = mon['Date'],\n",
    "    y = mon['Close'],\n",
    "    mode = 'Lines',\n",
    "    name = 'Monero Close Price'\n",
    ")\n",
    "trace2 = go.Scatter(\n",
    "    x = mon['Date'],\n",
    "    y = mon['MA'],\n",
    "    mode = 'Lines',\n",
    "    name = 'Monero Moving Average'\n",
    ")\n",
    "\n",
    "data = [trace1,trace2]\n",
    "\n",
    "py.iplot(data, filename='basic-scatter')"
   ]
  },
  {
   "cell_type": "markdown",
   "metadata": {},
   "source": [
    "# Monero, SMA, and MA"
   ]
  },
  {
   "cell_type": "code",
   "execution_count": 20,
   "metadata": {},
   "outputs": [
    {
     "data": {
      "text/html": [
       "<iframe id=\"igraph\" scrolling=\"no\" style=\"border:none;\" seamless=\"seamless\" src=\"https://plot.ly/~tkayne10/36.embed\" height=\"525px\" width=\"100%\"></iframe>"
      ],
      "text/plain": [
       "<plotly.tools.PlotlyDisplay object>"
      ]
     },
     "execution_count": 20,
     "metadata": {},
     "output_type": "execute_result"
    }
   ],
   "source": [
    "trace1 = go.Scatter(\n",
    "    x = mon['Date'],\n",
    "    y = mon['Close'],\n",
    "    mode = 'Lines',\n",
    "    name = 'Monero Close Price'\n",
    ")\n",
    "trace2 = go.Scatter(\n",
    "    x = mon['Date'],\n",
    "    y = mon['MA'],\n",
    "    mode = 'Lines',\n",
    "    name = 'Monero Moving Average'\n",
    ")\n",
    "trace3 = go.Scatter(\n",
    "    x = mon['Date'],\n",
    "    y = mon['SMA'],\n",
    "    mode = 'Lines',\n",
    "    name = 'Monero Small Moving Average'\n",
    ")\n",
    "\n",
    "data = [trace1,trace2,trace3]\n",
    "\n",
    "py.iplot(data, filename='basic-scatter')"
   ]
  },
  {
   "cell_type": "code",
   "execution_count": null,
   "metadata": {},
   "outputs": [],
   "source": []
  }
 ],
 "metadata": {
  "kernelspec": {
   "display_name": "Python 3",
   "language": "python",
   "name": "python3"
  },
  "language_info": {
   "codemirror_mode": {
    "name": "ipython",
    "version": 3
   },
   "file_extension": ".py",
   "mimetype": "text/x-python",
   "name": "python",
   "nbconvert_exporter": "python",
   "pygments_lexer": "ipython3",
   "version": "3.6.3"
  }
 },
 "nbformat": 4,
 "nbformat_minor": 2
}
