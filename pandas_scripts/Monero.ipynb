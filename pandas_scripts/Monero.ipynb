{
 "cells": [
  {
   "cell_type": "markdown",
   "metadata": {},
   "source": [
    "### Monero Data"
   ]
  },
  {
   "cell_type": "code",
   "execution_count": 5,
   "metadata": {},
   "outputs": [],
   "source": [
    "import numpy as np\n",
    "import pandas as pd"
   ]
  },
  {
   "cell_type": "code",
   "execution_count": 6,
   "metadata": {},
   "outputs": [
    {
     "data": {
      "text/html": [
       "<div>\n",
       "<style>\n",
       "    .dataframe thead tr:only-child th {\n",
       "        text-align: right;\n",
       "    }\n",
       "\n",
       "    .dataframe thead th {\n",
       "        text-align: left;\n",
       "    }\n",
       "\n",
       "    .dataframe tbody tr th {\n",
       "        vertical-align: top;\n",
       "    }\n",
       "</style>\n",
       "<table border=\"1\" class=\"dataframe\">\n",
       "  <thead>\n",
       "    <tr style=\"text-align: right;\">\n",
       "      <th></th>\n",
       "      <th>Date</th>\n",
       "      <th>Open</th>\n",
       "      <th>High</th>\n",
       "      <th>Low</th>\n",
       "      <th>Close</th>\n",
       "      <th>Volume</th>\n",
       "      <th>Market Cap</th>\n",
       "    </tr>\n",
       "  </thead>\n",
       "  <tbody>\n",
       "    <tr>\n",
       "      <th>0</th>\n",
       "      <td>Oct 03, 2017</td>\n",
       "      <td>91.52</td>\n",
       "      <td>94.81</td>\n",
       "      <td>87.21</td>\n",
       "      <td>92.96</td>\n",
       "      <td>44,289,800</td>\n",
       "      <td>1,387,960,000</td>\n",
       "    </tr>\n",
       "    <tr>\n",
       "      <th>1</th>\n",
       "      <td>Oct 02, 2017</td>\n",
       "      <td>93.56</td>\n",
       "      <td>93.80</td>\n",
       "      <td>90.98</td>\n",
       "      <td>91.54</td>\n",
       "      <td>27,534,700</td>\n",
       "      <td>1,418,400,000</td>\n",
       "    </tr>\n",
       "    <tr>\n",
       "      <th>2</th>\n",
       "      <td>Oct 01, 2017</td>\n",
       "      <td>95.59</td>\n",
       "      <td>95.74</td>\n",
       "      <td>91.77</td>\n",
       "      <td>93.22</td>\n",
       "      <td>25,936,500</td>\n",
       "      <td>1,448,800,000</td>\n",
       "    </tr>\n",
       "    <tr>\n",
       "      <th>3</th>\n",
       "      <td>Sep 30, 2017</td>\n",
       "      <td>94.44</td>\n",
       "      <td>96.33</td>\n",
       "      <td>94.07</td>\n",
       "      <td>95.76</td>\n",
       "      <td>28,498,000</td>\n",
       "      <td>1,430,900,000</td>\n",
       "    </tr>\n",
       "    <tr>\n",
       "      <th>4</th>\n",
       "      <td>Sep 29, 2017</td>\n",
       "      <td>97.30</td>\n",
       "      <td>97.78</td>\n",
       "      <td>91.22</td>\n",
       "      <td>94.50</td>\n",
       "      <td>38,972,400</td>\n",
       "      <td>1,473,750,000</td>\n",
       "    </tr>\n",
       "  </tbody>\n",
       "</table>\n",
       "</div>"
      ],
      "text/plain": [
       "           Date   Open   High    Low  Close      Volume     Market Cap\n",
       "0  Oct 03, 2017  91.52  94.81  87.21  92.96  44,289,800  1,387,960,000\n",
       "1  Oct 02, 2017  93.56  93.80  90.98  91.54  27,534,700  1,418,400,000\n",
       "2  Oct 01, 2017  95.59  95.74  91.77  93.22  25,936,500  1,448,800,000\n",
       "3  Sep 30, 2017  94.44  96.33  94.07  95.76  28,498,000  1,430,900,000\n",
       "4  Sep 29, 2017  97.30  97.78  91.22  94.50  38,972,400  1,473,750,000"
      ]
     },
     "execution_count": 6,
     "metadata": {},
     "output_type": "execute_result"
    }
   ],
   "source": [
    "monero_df = pd.read_csv('/Users/newuser/Dropbox/Datamining/Crypto-Pirates/Datasets/monero_price.csv')\n",
    "new_index = btc_df['Date']\n",
    "monero_df.head()"
   ]
  },
  {
   "cell_type": "markdown",
   "metadata": {},
   "source": [
    "### Adding Daily Range Column"
   ]
  },
  {
   "cell_type": "code",
   "execution_count": 7,
   "metadata": {},
   "outputs": [
    {
     "data": {
      "text/html": [
       "<div>\n",
       "<style>\n",
       "    .dataframe thead tr:only-child th {\n",
       "        text-align: right;\n",
       "    }\n",
       "\n",
       "    .dataframe thead th {\n",
       "        text-align: left;\n",
       "    }\n",
       "\n",
       "    .dataframe tbody tr th {\n",
       "        vertical-align: top;\n",
       "    }\n",
       "</style>\n",
       "<table border=\"1\" class=\"dataframe\">\n",
       "  <thead>\n",
       "    <tr style=\"text-align: right;\">\n",
       "      <th></th>\n",
       "      <th>Date</th>\n",
       "      <th>Open</th>\n",
       "      <th>High</th>\n",
       "      <th>Low</th>\n",
       "      <th>Close</th>\n",
       "      <th>Volume</th>\n",
       "      <th>Market Cap</th>\n",
       "      <th>Daily Range</th>\n",
       "    </tr>\n",
       "  </thead>\n",
       "  <tbody>\n",
       "    <tr>\n",
       "      <th>0</th>\n",
       "      <td>Oct 03, 2017</td>\n",
       "      <td>91.52</td>\n",
       "      <td>94.81</td>\n",
       "      <td>87.21</td>\n",
       "      <td>92.96</td>\n",
       "      <td>44,289,800</td>\n",
       "      <td>1,387,960,000</td>\n",
       "      <td>7.60</td>\n",
       "    </tr>\n",
       "    <tr>\n",
       "      <th>1</th>\n",
       "      <td>Oct 02, 2017</td>\n",
       "      <td>93.56</td>\n",
       "      <td>93.80</td>\n",
       "      <td>90.98</td>\n",
       "      <td>91.54</td>\n",
       "      <td>27,534,700</td>\n",
       "      <td>1,418,400,000</td>\n",
       "      <td>2.82</td>\n",
       "    </tr>\n",
       "    <tr>\n",
       "      <th>2</th>\n",
       "      <td>Oct 01, 2017</td>\n",
       "      <td>95.59</td>\n",
       "      <td>95.74</td>\n",
       "      <td>91.77</td>\n",
       "      <td>93.22</td>\n",
       "      <td>25,936,500</td>\n",
       "      <td>1,448,800,000</td>\n",
       "      <td>3.97</td>\n",
       "    </tr>\n",
       "    <tr>\n",
       "      <th>3</th>\n",
       "      <td>Sep 30, 2017</td>\n",
       "      <td>94.44</td>\n",
       "      <td>96.33</td>\n",
       "      <td>94.07</td>\n",
       "      <td>95.76</td>\n",
       "      <td>28,498,000</td>\n",
       "      <td>1,430,900,000</td>\n",
       "      <td>2.26</td>\n",
       "    </tr>\n",
       "    <tr>\n",
       "      <th>4</th>\n",
       "      <td>Sep 29, 2017</td>\n",
       "      <td>97.30</td>\n",
       "      <td>97.78</td>\n",
       "      <td>91.22</td>\n",
       "      <td>94.50</td>\n",
       "      <td>38,972,400</td>\n",
       "      <td>1,473,750,000</td>\n",
       "      <td>6.56</td>\n",
       "    </tr>\n",
       "  </tbody>\n",
       "</table>\n",
       "</div>"
      ],
      "text/plain": [
       "           Date   Open   High    Low  Close      Volume     Market Cap  \\\n",
       "0  Oct 03, 2017  91.52  94.81  87.21  92.96  44,289,800  1,387,960,000   \n",
       "1  Oct 02, 2017  93.56  93.80  90.98  91.54  27,534,700  1,418,400,000   \n",
       "2  Oct 01, 2017  95.59  95.74  91.77  93.22  25,936,500  1,448,800,000   \n",
       "3  Sep 30, 2017  94.44  96.33  94.07  95.76  28,498,000  1,430,900,000   \n",
       "4  Sep 29, 2017  97.30  97.78  91.22  94.50  38,972,400  1,473,750,000   \n",
       "\n",
       "   Daily Range  \n",
       "0         7.60  \n",
       "1         2.82  \n",
       "2         3.97  \n",
       "3         2.26  \n",
       "4         6.56  "
      ]
     },
     "execution_count": 7,
     "metadata": {},
     "output_type": "execute_result"
    }
   ],
   "source": [
    "monero_df['Daily Range'] = monero_df['High'] - monero_df['Low']\n",
    "monero_df.head()"
   ]
  },
  {
   "cell_type": "markdown",
   "metadata": {},
   "source": [
    "### Monero Daily Range Mean"
   ]
  },
  {
   "cell_type": "code",
   "execution_count": null,
   "metadata": {},
   "outputs": [],
   "source": []
  }
 ],
 "metadata": {
  "kernelspec": {
   "display_name": "Python 3",
   "language": "python",
   "name": "python3"
  },
  "language_info": {
   "codemirror_mode": {
    "name": "ipython",
    "version": 3
   },
   "file_extension": ".py",
   "mimetype": "text/x-python",
   "name": "python",
   "nbconvert_exporter": "python",
   "pygments_lexer": "ipython3",
   "version": "3.6.2"
  }
 },
 "nbformat": 4,
 "nbformat_minor": 2
}
