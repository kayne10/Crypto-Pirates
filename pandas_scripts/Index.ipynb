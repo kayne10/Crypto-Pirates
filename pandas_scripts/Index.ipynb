{
 "cells": [
  {
   "cell_type": "code",
   "execution_count": 2,
   "metadata": {},
   "outputs": [
    {
     "data": {
      "text/html": [
       "<div>\n",
       "<style scoped>\n",
       "    .dataframe tbody tr th:only-of-type {\n",
       "        vertical-align: middle;\n",
       "    }\n",
       "\n",
       "    .dataframe tbody tr th {\n",
       "        vertical-align: top;\n",
       "    }\n",
       "\n",
       "    .dataframe thead th {\n",
       "        text-align: right;\n",
       "    }\n",
       "</style>\n",
       "<table border=\"1\" class=\"dataframe\">\n",
       "  <thead>\n",
       "    <tr style=\"text-align: right;\">\n",
       "      <th></th>\n",
       "      <th>Date</th>\n",
       "      <th>Open</th>\n",
       "      <th>High</th>\n",
       "      <th>Low</th>\n",
       "      <th>Close</th>\n",
       "      <th>Volume</th>\n",
       "      <th>Market Cap</th>\n",
       "    </tr>\n",
       "  </thead>\n",
       "  <tbody>\n",
       "    <tr>\n",
       "      <th>0</th>\n",
       "      <td>Oct 03, 2017</td>\n",
       "      <td>4408.46</td>\n",
       "      <td>4432.47</td>\n",
       "      <td>4258.89</td>\n",
       "      <td>4317.48</td>\n",
       "      <td>1,288,020,000</td>\n",
       "      <td>73,181,300,000</td>\n",
       "    </tr>\n",
       "    <tr>\n",
       "      <th>1</th>\n",
       "      <td>Oct 02, 2017</td>\n",
       "      <td>4395.81</td>\n",
       "      <td>4470.23</td>\n",
       "      <td>4377.46</td>\n",
       "      <td>4409.32</td>\n",
       "      <td>1,431,730,000</td>\n",
       "      <td>72,963,200,000</td>\n",
       "    </tr>\n",
       "    <tr>\n",
       "      <th>2</th>\n",
       "      <td>Oct 01, 2017</td>\n",
       "      <td>4341.05</td>\n",
       "      <td>4403.74</td>\n",
       "      <td>4269.81</td>\n",
       "      <td>4403.74</td>\n",
       "      <td>1,208,210,000</td>\n",
       "      <td>72,047,300,000</td>\n",
       "    </tr>\n",
       "    <tr>\n",
       "      <th>3</th>\n",
       "      <td>Sep 30, 2017</td>\n",
       "      <td>4166.11</td>\n",
       "      <td>4358.43</td>\n",
       "      <td>4160.86</td>\n",
       "      <td>4338.71</td>\n",
       "      <td>1,207,450,000</td>\n",
       "      <td>69,136,600,000</td>\n",
       "    </tr>\n",
       "    <tr>\n",
       "      <th>4</th>\n",
       "      <td>Sep 29, 2017</td>\n",
       "      <td>4171.62</td>\n",
       "      <td>4214.63</td>\n",
       "      <td>4039.29</td>\n",
       "      <td>4163.07</td>\n",
       "      <td>1,367,050,000</td>\n",
       "      <td>69,219,200,000</td>\n",
       "    </tr>\n",
       "  </tbody>\n",
       "</table>\n",
       "</div>"
      ],
      "text/plain": [
       "           Date     Open     High      Low    Close         Volume  \\\n",
       "0  Oct 03, 2017  4408.46  4432.47  4258.89  4317.48  1,288,020,000   \n",
       "1  Oct 02, 2017  4395.81  4470.23  4377.46  4409.32  1,431,730,000   \n",
       "2  Oct 01, 2017  4341.05  4403.74  4269.81  4403.74  1,208,210,000   \n",
       "3  Sep 30, 2017  4166.11  4358.43  4160.86  4338.71  1,207,450,000   \n",
       "4  Sep 29, 2017  4171.62  4214.63  4039.29  4163.07  1,367,050,000   \n",
       "\n",
       "       Market Cap  \n",
       "0  73,181,300,000  \n",
       "1  72,963,200,000  \n",
       "2  72,047,300,000  \n",
       "3  69,136,600,000  \n",
       "4  69,219,200,000  "
      ]
     },
     "execution_count": 2,
     "metadata": {},
     "output_type": "execute_result"
    }
   ],
   "source": [
    "import pandas as pd\n",
    "import numpy as np\n",
    "import matplotlib.pyplot as plt\n",
    "\n",
    "data = pd.read_csv('/Users/troy/Github/courses/crypto-pirates/Datasets/bitcoin_price.csv')\n",
    "data.head()"
   ]
  },
  {
   "cell_type": "code",
   "execution_count": 3,
   "metadata": {},
   "outputs": [
    {
     "data": {
      "text/plain": [
       "'994,625,000'"
      ]
     },
     "execution_count": 3,
     "metadata": {},
     "output_type": "execute_result"
    }
   ],
   "source": [
    "data['Volume'].max()"
   ]
  },
  {
   "cell_type": "code",
   "execution_count": null,
   "metadata": {},
   "outputs": [],
   "source": []
  }
 ],
 "metadata": {
  "kernelspec": {
   "display_name": "Python 3",
   "language": "python",
   "name": "python3"
  },
  "language_info": {
   "codemirror_mode": {
    "name": "ipython",
    "version": 3
   },
   "file_extension": ".py",
   "mimetype": "text/x-python",
   "name": "python",
   "nbconvert_exporter": "python",
   "pygments_lexer": "ipython3",
   "version": "3.6.3"
  }
 },
 "nbformat": 4,
 "nbformat_minor": 2
}
