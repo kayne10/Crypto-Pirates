{
 "cells": [
  {
   "cell_type": "code",
   "execution_count": 1,
   "metadata": {},
   "outputs": [
    {
     "data": {
      "text/html": [
       "<div>\n",
       "<style scoped>\n",
       "    .dataframe tbody tr th:only-of-type {\n",
       "        vertical-align: middle;\n",
       "    }\n",
       "\n",
       "    .dataframe tbody tr th {\n",
       "        vertical-align: top;\n",
       "    }\n",
       "\n",
       "    .dataframe thead th {\n",
       "        text-align: right;\n",
       "    }\n",
       "</style>\n",
       "<table border=\"1\" class=\"dataframe\">\n",
       "  <thead>\n",
       "    <tr style=\"text-align: right;\">\n",
       "      <th></th>\n",
       "      <th>Date</th>\n",
       "      <th>Open</th>\n",
       "      <th>High</th>\n",
       "      <th>Low</th>\n",
       "      <th>Close</th>\n",
       "      <th>Volume</th>\n",
       "      <th>Market Cap</th>\n",
       "    </tr>\n",
       "  </thead>\n",
       "  <tbody>\n",
       "    <tr>\n",
       "      <th>0</th>\n",
       "      <td>Oct 03, 2017</td>\n",
       "      <td>4408.46</td>\n",
       "      <td>4432.47</td>\n",
       "      <td>4258.89</td>\n",
       "      <td>4317.48</td>\n",
       "      <td>1,288,020,000</td>\n",
       "      <td>73,181,300,000</td>\n",
       "    </tr>\n",
       "    <tr>\n",
       "      <th>1</th>\n",
       "      <td>Oct 02, 2017</td>\n",
       "      <td>4395.81</td>\n",
       "      <td>4470.23</td>\n",
       "      <td>4377.46</td>\n",
       "      <td>4409.32</td>\n",
       "      <td>1,431,730,000</td>\n",
       "      <td>72,963,200,000</td>\n",
       "    </tr>\n",
       "    <tr>\n",
       "      <th>2</th>\n",
       "      <td>Oct 01, 2017</td>\n",
       "      <td>4341.05</td>\n",
       "      <td>4403.74</td>\n",
       "      <td>4269.81</td>\n",
       "      <td>4403.74</td>\n",
       "      <td>1,208,210,000</td>\n",
       "      <td>72,047,300,000</td>\n",
       "    </tr>\n",
       "    <tr>\n",
       "      <th>3</th>\n",
       "      <td>Sep 30, 2017</td>\n",
       "      <td>4166.11</td>\n",
       "      <td>4358.43</td>\n",
       "      <td>4160.86</td>\n",
       "      <td>4338.71</td>\n",
       "      <td>1,207,450,000</td>\n",
       "      <td>69,136,600,000</td>\n",
       "    </tr>\n",
       "    <tr>\n",
       "      <th>4</th>\n",
       "      <td>Sep 29, 2017</td>\n",
       "      <td>4171.62</td>\n",
       "      <td>4214.63</td>\n",
       "      <td>4039.29</td>\n",
       "      <td>4163.07</td>\n",
       "      <td>1,367,050,000</td>\n",
       "      <td>69,219,200,000</td>\n",
       "    </tr>\n",
       "  </tbody>\n",
       "</table>\n",
       "</div>"
      ],
      "text/plain": [
       "           Date     Open     High      Low    Close         Volume  \\\n",
       "0  Oct 03, 2017  4408.46  4432.47  4258.89  4317.48  1,288,020,000   \n",
       "1  Oct 02, 2017  4395.81  4470.23  4377.46  4409.32  1,431,730,000   \n",
       "2  Oct 01, 2017  4341.05  4403.74  4269.81  4403.74  1,208,210,000   \n",
       "3  Sep 30, 2017  4166.11  4358.43  4160.86  4338.71  1,207,450,000   \n",
       "4  Sep 29, 2017  4171.62  4214.63  4039.29  4163.07  1,367,050,000   \n",
       "\n",
       "       Market Cap  \n",
       "0  73,181,300,000  \n",
       "1  72,963,200,000  \n",
       "2  72,047,300,000  \n",
       "3  69,136,600,000  \n",
       "4  69,219,200,000  "
      ]
     },
     "execution_count": 1,
     "metadata": {},
     "output_type": "execute_result"
    }
   ],
   "source": [
    "import pandas as pd\n",
    "import numpy as np\n",
    "import matplotlib.pyplot as plt\n",
    "\n",
    "btc_data = pd.read_csv('/Users/troy/Github/courses/crypto-pirates/Datasets/bitcoin_price.csv')\n",
    "btc_data.head()"
   ]
  },
  {
   "cell_type": "code",
   "execution_count": 10,
   "metadata": {},
   "outputs": [
    {
     "data": {
      "text/html": [
       "<div>\n",
       "<style scoped>\n",
       "    .dataframe tbody tr th:only-of-type {\n",
       "        vertical-align: middle;\n",
       "    }\n",
       "\n",
       "    .dataframe tbody tr th {\n",
       "        vertical-align: top;\n",
       "    }\n",
       "\n",
       "    .dataframe thead th {\n",
       "        text-align: right;\n",
       "    }\n",
       "</style>\n",
       "<table border=\"1\" class=\"dataframe\">\n",
       "  <thead>\n",
       "    <tr style=\"text-align: right;\">\n",
       "      <th></th>\n",
       "      <th>Date</th>\n",
       "      <th>Open</th>\n",
       "      <th>High</th>\n",
       "      <th>Low</th>\n",
       "      <th>Close</th>\n",
       "      <th>Volume</th>\n",
       "      <th>Market Cap</th>\n",
       "    </tr>\n",
       "  </thead>\n",
       "  <tbody>\n",
       "    <tr>\n",
       "      <th>0</th>\n",
       "      <td>Oct 03, 2017</td>\n",
       "      <td>91.52</td>\n",
       "      <td>94.81</td>\n",
       "      <td>87.21</td>\n",
       "      <td>92.96</td>\n",
       "      <td>44,289,800</td>\n",
       "      <td>1,387,960,000</td>\n",
       "    </tr>\n",
       "    <tr>\n",
       "      <th>1</th>\n",
       "      <td>Oct 02, 2017</td>\n",
       "      <td>93.56</td>\n",
       "      <td>93.80</td>\n",
       "      <td>90.98</td>\n",
       "      <td>91.54</td>\n",
       "      <td>27,534,700</td>\n",
       "      <td>1,418,400,000</td>\n",
       "    </tr>\n",
       "    <tr>\n",
       "      <th>2</th>\n",
       "      <td>Oct 01, 2017</td>\n",
       "      <td>95.59</td>\n",
       "      <td>95.74</td>\n",
       "      <td>91.77</td>\n",
       "      <td>93.22</td>\n",
       "      <td>25,936,500</td>\n",
       "      <td>1,448,800,000</td>\n",
       "    </tr>\n",
       "    <tr>\n",
       "      <th>3</th>\n",
       "      <td>Sep 30, 2017</td>\n",
       "      <td>94.44</td>\n",
       "      <td>96.33</td>\n",
       "      <td>94.07</td>\n",
       "      <td>95.76</td>\n",
       "      <td>28,498,000</td>\n",
       "      <td>1,430,900,000</td>\n",
       "    </tr>\n",
       "    <tr>\n",
       "      <th>4</th>\n",
       "      <td>Sep 29, 2017</td>\n",
       "      <td>97.30</td>\n",
       "      <td>97.78</td>\n",
       "      <td>91.22</td>\n",
       "      <td>94.50</td>\n",
       "      <td>38,972,400</td>\n",
       "      <td>1,473,750,000</td>\n",
       "    </tr>\n",
       "  </tbody>\n",
       "</table>\n",
       "</div>"
      ],
      "text/plain": [
       "           Date   Open   High    Low  Close      Volume     Market Cap\n",
       "0  Oct 03, 2017  91.52  94.81  87.21  92.96  44,289,800  1,387,960,000\n",
       "1  Oct 02, 2017  93.56  93.80  90.98  91.54  27,534,700  1,418,400,000\n",
       "2  Oct 01, 2017  95.59  95.74  91.77  93.22  25,936,500  1,448,800,000\n",
       "3  Sep 30, 2017  94.44  96.33  94.07  95.76  28,498,000  1,430,900,000\n",
       "4  Sep 29, 2017  97.30  97.78  91.22  94.50  38,972,400  1,473,750,000"
      ]
     },
     "execution_count": 10,
     "metadata": {},
     "output_type": "execute_result"
    }
   ],
   "source": [
    "mon_data = pd.read_csv('/Users/troy/Github/courses/crypto-pirates/Datasets/monero_price.csv')\n",
    "mon_data.head()"
   ]
  },
  {
   "cell_type": "code",
   "execution_count": 6,
   "metadata": {},
   "outputs": [
    {
     "data": {
      "text/plain": [
       "'994,625,000'"
      ]
     },
     "execution_count": 6,
     "metadata": {},
     "output_type": "execute_result"
    }
   ],
   "source": [
    "# Comparing bitcoin max volume and monero max volume\n",
    "btc_data['Volume'].max()"
   ]
  },
  {
   "cell_type": "code",
   "execution_count": 11,
   "metadata": {},
   "outputs": [
    {
     "data": {
      "text/plain": [
       "'99,815'"
      ]
     },
     "execution_count": 11,
     "metadata": {},
     "output_type": "execute_result"
    }
   ],
   "source": [
    "mon_data['Volume'].max()"
   ]
  },
  {
   "cell_type": "code",
   "execution_count": 12,
   "metadata": {},
   "outputs": [
    {
     "data": {
      "text/plain": [
       "'-'"
      ]
     },
     "execution_count": 12,
     "metadata": {},
     "output_type": "execute_result"
    }
   ],
   "source": [
    "btc_data['Volume'].min()"
   ]
  },
  {
   "cell_type": "code",
   "execution_count": 13,
   "metadata": {},
   "outputs": [
    {
     "data": {
      "text/plain": [
       "'1,037,600'"
      ]
     },
     "execution_count": 13,
     "metadata": {},
     "output_type": "execute_result"
    }
   ],
   "source": [
    "mon_data['Volume'].min()"
   ]
  },
  {
   "cell_type": "code",
   "execution_count": 26,
   "metadata": {},
   "outputs": [
    {
     "data": {
      "image/png": "[encoded data removed]",
      "text/plain": [
       "<matplotlib.figure.Figure at 0x10d744a90>"
      ]
     },
     "metadata": {},
     "output_type": "display_data"
    }
   ],
   "source": [
    "# Date and Open for Bitcoin\n",
    "plt.scatter(btc_data['Date'], btc_data['Open'])\n",
    "plt.show()"
   ]
  },
  {
   "cell_type": "code",
   "execution_count": 28,
   "metadata": {},
   "outputs": [
    {
     "data": {
      "image/png": "[encoded data removed]",
      "text/plain": [
       "<matplotlib.figure.Figure at 0x10e88d780>"
      ]
     },
     "metadata": {},
     "output_type": "display_data"
    }
   ],
   "source": [
    "plt.scatter(btc_data['Date'], btc_data['Close'])\n",
    "plt.show()"
   ]
  },
  {
   "cell_type": "code",
   "execution_count": 29,
   "metadata": {},
   "outputs": [
    {
     "data": {
      "image/png": "[encoded data removed]",
      "text/plain": [
       "<matplotlib.figure.Figure at 0x110700550>"
      ]
     },
     "metadata": {},
     "output_type": "display_data"
    }
   ],
   "source": [
    "plt.scatter(mon_data['Date'], mon_data['Open'])\n",
    "plt.show()"
   ]
  },
  {
   "cell_type": "code",
   "execution_count": 30,
   "metadata": {},
   "outputs": [
    {
     "data": {
      "image/png": "[encoded data removed]",
      "text/plain": [
       "<matplotlib.figure.Figure at 0x10e9049b0>"
      ]
     },
     "metadata": {},
     "output_type": "display_data"
    }
   ],
   "source": [
    "plt.scatter(mon_data['Date'], mon_data['Close'])\n",
    "plt.show()"
   ]
  },
  {
   "cell_type": "code",
   "execution_count": null,
   "metadata": {},
   "outputs": [],
   "source": []
  }
 ],
 "metadata": {
  "kernelspec": {
   "display_name": "Python 3",
   "language": "python",
   "name": "python3"
  },
  "language_info": {
   "codemirror_mode": {
    "name": "ipython",
    "version": 3
   },
   "file_extension": ".py",
   "mimetype": "text/x-python",
   "name": "python",
   "nbconvert_exporter": "python",
   "pygments_lexer": "ipython3",
   "version": "3.6.3"
  }
 },
 "nbformat": 4,
 "nbformat_minor": 2
}
