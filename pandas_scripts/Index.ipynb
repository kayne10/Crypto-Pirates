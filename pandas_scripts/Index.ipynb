{
 "cells": [
  {
   "cell_type": "code",
   "execution_count": 1,
   "metadata": {},
   "outputs": [],
   "source": [
    "import pandas as pd\n",
    "import numpy as np"
   ]
  },
  {
   "cell_type": "code",
   "execution_count": 4,
   "metadata": {},
   "outputs": [
    {
     "data": {
      "text/plain": [
       "Date                                                   2017-10-03 00:00:00\n",
       "btc_market_price                                                   4911.74\n",
       "btc_total_bitcoins                                             1.66025e+07\n",
       "btc_market_cap                                                 8.12315e+10\n",
       "btc_trade_volume                                               1.26743e+09\n",
       "btc_blocks_size                                                     135145\n",
       "btc_avg_block_size                                                  1.0015\n",
       "btc_n_orphaned_blocks                                                    7\n",
       "btc_n_transactions_per_block                                        2250.6\n",
       "btc_median_confirmation_time                                       47.7333\n",
       "btc_hash_rate                                                  1.02238e+07\n",
       "btc_difficulty                                                 1.12386e+12\n",
       "btc_miners_revenue                                              1.2132e+07\n",
       "btc_transaction_fees                                               668.132\n",
       "btc_cost_per_transaction_percent                                     2e+06\n",
       "btc_cost_per_transaction                                           90.2021\n",
       "btc_n_unique_addresses                                              691480\n",
       "btc_n_transactions                                                  369098\n",
       "btc_n_transactions_total                                       2.59241e+08\n",
       "btc_n_transactions_excluding_popular                                361974\n",
       "btc_n_transactions_excluding_chains_longer_than_100                 286896\n",
       "btc_output_volume                                              4.59922e+07\n",
       "btc_estimated_transaction_volume                               5.82507e+06\n",
       "btc_estimated_transaction_volume_usd                           1.77264e+09\n",
       "dtype: object"
      ]
     },
     "execution_count": 4,
     "metadata": {},
     "output_type": "execute_result"
    }
   ],
   "source": [
    "data = pd.read_csv('/Users/troy/Github/courses/crypto-pirates/Datasets/bitcoin_dataset.csv')\n",
    "data.max()"
   ]
  },
  {
   "cell_type": "code",
   "execution_count": null,
   "metadata": {},
   "outputs": [],
   "source": []
  }
 ],
 "metadata": {
  "kernelspec": {
   "display_name": "Python 3",
   "language": "python",
   "name": "python3"
  },
  "language_info": {
   "codemirror_mode": {
    "name": "ipython",
    "version": 3
   },
   "file_extension": ".py",
   "mimetype": "text/x-python",
   "name": "python",
   "nbconvert_exporter": "python",
   "pygments_lexer": "ipython3",
   "version": "3.6.3"
  }
 },
 "nbformat": 4,
 "nbformat_minor": 2
}
